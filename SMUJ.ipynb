{
 "cells": [
  {
   "cell_type": "markdown",
   "metadata": {},
   "source": [
    "## 1. Calculate Area of a Circle"
   ]
  },
  {
   "cell_type": "markdown",
   "metadata": {},
   "source": [
    "#### Write a Python program which accepts the radius of a circle from the user and compute the area.\n",
    "###### Program Console Sample Output 1:\n",
    "###### Input Radius: 0.5\n",
    "###### Area of Circle with radius 0.5 is 0.7853981634"
   ]
  },
  {
   "cell_type": "code",
   "execution_count": 1,
   "metadata": {},
   "outputs": [
    {
     "name": "stdout",
     "output_type": "stream",
     "text": [
      "Enter Radius: 5\n",
      "The Area of the Circle is 78.5 cm*2 According to the Given Radius is 5.0 m.\n"
     ]
    }
   ],
   "source": [
    "π=3.14\n",
    "r=float(input(\"Enter Radius: \"))\n",
    "A=π*r**2\n",
    "print(\"The Area of the Circle is\",A,\"cm*2\",\"According to the Given Radius is\",r,\"m.\")"
   ]
  },
  {
   "cell_type": "markdown",
   "metadata": {},
   "source": [
    "## 2. Check Number either positive, negative or zero"
   ]
  },
  {
   "cell_type": "markdown",
   "metadata": {},
   "source": [
    "#### Write a Python program to check if a number is positive, negative or zero\n",
    "###### Program Console Sample Output 1:\n",
    "###### Enter Number: -1\n",
    "##### Negative Number Entered\n",
    "###### Program Console Sample Output 2:\n",
    "##### Integer: 3\n",
    "##### Positive Number Entered\n",
    "###### Program Console Sample Output 3:\n",
    "##### Integer: 0\n",
    "###### Zero Entered"
   ]
  },
  {
   "cell_type": "code",
   "execution_count": 2,
   "metadata": {},
   "outputs": [
    {
     "name": "stdout",
     "output_type": "stream",
     "text": [
      "Enter an Integer: -5\n",
      "Negative number Entered\n"
     ]
    }
   ],
   "source": [
    "# In this python program, user enters a number and checked if the number is positive or negative or zero\n",
    " \n",
    "num = float(input(\"Enter an Integer: \"))\n",
    "if num > 0:\n",
    "   print(\"Positive number Entered\")\n",
    "elif num == 0:\n",
    "   print(\"Zero Entered\")\n",
    "else:\n",
    "   print(\"Negative number Entered\")\n"
   ]
  },
  {
   "cell_type": "code",
   "execution_count": 3,
   "metadata": {},
   "outputs": [
    {
     "name": "stdout",
     "output_type": "stream",
     "text": [
      "Enter an Integer: 5\n",
      "Positive number Entered\n"
     ]
    }
   ],
   "source": [
    "# In this python program, user enters a number and checked if the number is positive or negative or zero\n",
    " \n",
    "num = float(input(\"Enter an Integer: \"))\n",
    "if num > 0:\n",
    "   print(\"Positive number Entered\")\n",
    "elif num == 0:\n",
    "   print(\"Zero Entered\")\n",
    "else:\n",
    "   print(\"Negative number Entered\")\n"
   ]
  },
  {
   "cell_type": "code",
   "execution_count": 4,
   "metadata": {},
   "outputs": [
    {
     "name": "stdout",
     "output_type": "stream",
     "text": [
      "Enter an Integer: 0\n",
      "Zero Entered\n"
     ]
    }
   ],
   "source": [
    "# In this python program, user enters a number and checked if the number is positive or negative or zero\n",
    " \n",
    "num = float(input(\"Enter an Integer: \"))\n",
    "if num > 0:\n",
    "   print(\"Positive number Entered\")\n",
    "elif num == 0:\n",
    "   print(\"Zero Entered\")\n",
    "else:\n",
    "   print(\"Negative number Entered\")\n"
   ]
  },
  {
   "cell_type": "markdown",
   "metadata": {},
   "source": [
    "## 3. Divisibility Check of two numbers"
   ]
  },
  {
   "cell_type": "markdown",
   "metadata": {},
   "source": [
    "#### Write a Python program to check whether a number is completely divisible by another number. Accept two integer values form the user\n",
    "##### Program Console Sample Output 1:\n",
    "###### Enter numerator: 4\n",
    "###### Enter Denominator: 2\n",
    "##### Number 4 is Completely divisible by 2\n",
    "###### Program Console Sample Output 2:\n",
    "##### Enter numerator: 7\n",
    "\n",
    "##### Enter Denominator: 4\n",
    "###### Number 7 is not Completely divisible by 4"
   ]
  },
  {
   "cell_type": "code",
   "execution_count": 5,
   "metadata": {},
   "outputs": [
    {
     "name": "stdout",
     "output_type": "stream",
     "text": [
      "Enter Numerator:99\n",
      "Enter Denominator:3\n",
      "Number 99 is Completely divisible by 3\n"
     ]
    }
   ],
   "source": [
    "Value_1 = int(input(\"Enter Numerator:\"))\n",
    "Value_2 = int(input(\"Enter Denominator:\"))\n",
    "\n",
    "if Value_1 % Value_2 == 0:\n",
    "    print(\"Number\",Value_1,\"is Completely divisible by\",Value_2)\n",
    "\n",
    "else:\n",
    "      print(\"Number\",Value_1,\"is not Completely divisible by\",Value_2)"
   ]
  },
  {
   "cell_type": "code",
   "execution_count": 6,
   "metadata": {},
   "outputs": [
    {
     "name": "stdout",
     "output_type": "stream",
     "text": [
      "Enter Numerator:68\n",
      "Enter Denominator:7\n",
      "Number 68 is not Completely divisible by 7\n"
     ]
    }
   ],
   "source": [
    "Value_1 = int(input(\"Enter Numerator:\"))\n",
    "Value_2 = int(input(\"Enter Denominator:\"))\n",
    "\n",
    "if Value_1 % Value_2 == 0:\n",
    "    print(\"Number\",Value_1,\"is Completely divisible by\",Value_2)\n",
    "\n",
    "else:\n",
    "      print(\"Number\",Value_1,\"is not Completely divisible by\",Value_2)"
   ]
  },
  {
   "cell_type": "markdown",
   "metadata": {},
   "source": [
    "## 4. Calculate Volume of a sphere"
   ]
  },
  {
   "cell_type": "markdown",
   "metadata": {},
   "source": [
    "##### Write a Python program to get the volume of a sphere, please take the radius as input from user"
   ]
  },
  {
   "cell_type": "markdown",
   "metadata": {},
   "source": [
    "##### Program Console Output:\n",
    "##### Enter Radius of Sphere: 1\n",
    "###### Volume of the Sphere with Radius 1 is 4.18"
   ]
  },
  {
   "cell_type": "code",
   "execution_count": 7,
   "metadata": {},
   "outputs": [
    {
     "name": "stdout",
     "output_type": "stream",
     "text": [
      "Enter Radius: 6\n",
      "The volume of the sphere is:  904.7786842338603\n"
     ]
    }
   ],
   "source": [
    "\n",
    "π = 3.1415926535897931\n",
    "r= float(input(\"Enter Radius: \"))\n",
    "V= 4.0/3.0*π* r**3\n",
    "print('The volume of the sphere is: ',V)\n"
   ]
  },
  {
   "cell_type": "markdown",
   "metadata": {},
   "source": [
    "## 5. Copy string n times\n",
    "#### Write a Python program to get a string which is n (non-negative integer) copies of a given string.\n",
    "##### Program Console Output:\n",
    "##### Enter String: Hi\n",
    "###### How many copies of String you need: 4\n",
    "###### 4 Copies of Hi are HiHiHiHi"
   ]
  },
  {
   "cell_type": "code",
   "execution_count": 8,
   "metadata": {},
   "outputs": [
    {
     "name": "stdout",
     "output_type": "stream",
     "text": [
      "Enter String: Hii\n",
      "How many Copies of Strings you need: 3\n",
      "3 Copies of Hii are: HiiHiiHii\n"
     ]
    }
   ],
   "source": [
    "String=input(\"Enter String: \")\n",
    "total=int(input(\"How many Copies of Strings you need: \"))\n",
    "Required=String*total\n",
    "print(total,\"Copies of\",String,\"are:\",Required)"
   ]
  },
  {
   "cell_type": "markdown",
   "metadata": {},
   "source": [
    "## 6. Check if number is Even or Odd\n",
    "### Write a Python program to find whether a given number (accept from the user) is even or odd, print out an appropriate message to the user\n",
    "#### Program Console Output 1:\n",
    "##### Enter Number: 4\n",
    "###### 4 is Even\n",
    "#### Program Console Output 2:\n",
    "##### Enter Number: 9\n",
    "###### 9 is Odd"
   ]
  },
  {
   "cell_type": "code",
   "execution_count": 9,
   "metadata": {},
   "outputs": [
    {
     "name": "stdout",
     "output_type": "stream",
     "text": [
      "Enter Number: 6\n",
      " 6 is Even\n"
     ]
    }
   ],
   "source": [
    "Input=int(input(\"Enter Number: \"))\n",
    "if Input%2==0:\n",
    "    print(\"\",Input,\"is Even\")\n",
    "else:\n",
    "    print(\"\",Input, \"is Odd\")"
   ]
  },
  {
   "cell_type": "code",
   "execution_count": 10,
   "metadata": {},
   "outputs": [
    {
     "name": "stdout",
     "output_type": "stream",
     "text": [
      "Enter Number: 9\n",
      " 9 is Odd\n"
     ]
    }
   ],
   "source": [
    "Input=int(input(\"Enter Number: \"))\n",
    "if Input%2==0:\n",
    "    print(\"\",Input,\"is Even\")\n",
    "else:\n",
    "    print(\"\",Input, \"is Odd\")"
   ]
  },
  {
   "cell_type": "markdown",
   "metadata": {},
   "source": [
    "## 7. Vowel Tester\n",
    "### Write a Python program to test whether a passed letter is a vowel or not\n",
    "#### Program Console Output 1:\n",
    "##### Enter a character: A\n",
    "###### Letter A is Vowel\n",
    "#### Program Console Output 2:\n",
    "##### Enter a character: e\n",
    "###### Letter e is Vowel\n",
    "#### Program Console Output 2:\n",
    "##### Enter a character: N\n",
    "###### Letter N is not Vowel"
   ]
  },
  {
   "cell_type": "code",
   "execution_count": 11,
   "metadata": {},
   "outputs": [
    {
     "name": "stdout",
     "output_type": "stream",
     "text": [
      "Enter a Character: A\n",
      "Letter A is a Vowel\n"
     ]
    }
   ],
   "source": [
    "Input=input(\"Enter a Character: \")\n",
    "if (Input == \"a\" or Input == \"e\" or Input == \"i\" or Input == \"o\" or Input == \"u\" or Input == \"A\" or Input == \"E\" or Input == \"I\" or Input == \"O\" or Input == \"U\"):\n",
    "    print(\"Letter\",Input,\"is a Vowel\")\n",
    "else:\n",
    "    print(\"Letter\",Input,\"is not a Vowel\")"
   ]
  },
  {
   "cell_type": "code",
   "execution_count": 12,
   "metadata": {},
   "outputs": [
    {
     "name": "stdout",
     "output_type": "stream",
     "text": [
      "Enter a Character: i\n",
      "Letter i is a Vowel\n"
     ]
    }
   ],
   "source": [
    "Input=input(\"Enter a Character: \")\n",
    "if (Input == \"a\" or Input == \"e\" or Input == \"i\" or Input == \"o\" or Input == \"u\" or Input == \"A\" or Input == \"E\" or Input == \"I\" or Input == \"O\" or Input == \"U\"):\n",
    "    print(\"Letter\",Input,\"is a Vowel\")\n",
    "else:\n",
    "    print(\"Letter\",Input,\"is not a Vowel\")"
   ]
  },
  {
   "cell_type": "code",
   "execution_count": 13,
   "metadata": {},
   "outputs": [
    {
     "name": "stdout",
     "output_type": "stream",
     "text": [
      "Enter a Character: G\n",
      "Letter G is not a Vowel\n"
     ]
    }
   ],
   "source": [
    "Input=input(\"Enter a Character: \")\n",
    "if (Input == \"a\" or Input == \"e\" or Input == \"i\" or Input == \"o\" or Input == \"u\" or Input == \"A\" or Input == \"E\" or Input == \"I\" or Input == \"O\" or Input == \"U\"):\n",
    "    print(\"Letter\",Input,\"is a Vowel\")\n",
    "else:\n",
    "    print(\"Letter\",Input,\"is not a Vowel\")\n"
   ]
  },
  {
   "cell_type": "markdown",
   "metadata": {},
   "source": [
    "## 8. Triangle area\n",
    "### Write a Python program that will accept the base and height of a triangle and compute the area\n",
    "###### Reference:\n",
    "https://www.mathgoodies.com/lessons/vol1/area_triangle"
   ]
  },
  {
   "cell_type": "code",
   "execution_count": 15,
   "metadata": {},
   "outputs": [
    {
     "name": "stdout",
     "output_type": "stream",
     "text": [
      "Enter the Base : 5\n",
      "Enter the Height : 6\n",
      "Area =  15.0 m*2\n"
     ]
    }
   ],
   "source": [
    "b = int(input(\"Enter the Base : \"))\n",
    "h = int(input(\"Enter the Height : \"))\n",
    "\n",
    "Area = (b*h)/2\n",
    "\n",
    "print(\"Area = \", Area,\"m*2\")"
   ]
  },
  {
   "cell_type": "markdown",
   "metadata": {},
   "source": [
    "## 9. Calculate Interest\n",
    "### Write a Python program to compute the future value of a specified principal amount, rate of interest, and a number of years\n",
    "#### Program Console Sample 1:\n",
    "##### Please enter principal amount: 10000\n",
    "###### Please Enter Rate of interest in %: 0.1\n",
    "###### Enter number of years for investment: 5\n",
    "###### After 5 years your principal amount 10000 over an interest rate of 0.1 % will be 16105.1"
   ]
  },
  {
   "cell_type": "code",
   "execution_count": 20,
   "metadata": {},
   "outputs": [
    {
     "name": "stdout",
     "output_type": "stream",
     "text": [
      "Please Enter Principal Amount: 5000\n",
      "Please Enter Rate Of Interest in %: 0.5\n",
      "Enter number of years for Investment: 5\n",
      "After  5  Years your principal amount  0.5 % over an interest rate will be  37968.75 \n"
     ]
    }
   ],
   "source": [
    "Input_1=int(input(\"Please Enter Principal Amount: \"))\n",
    "Input_2=float(input(\"Please Enter Rate Of Interest in %: \"))\n",
    "Investment_Duration=int(input(\"Enter number of years for Investment: \"))\n",
    "for i in range(Investment_Duration):\n",
    "    Input_1 = Input_1 * (1+ Input_2)\n",
    "print(\"After \",Investment_Duration,\" Years your principal amount \",Input_2,\"% over an interest rate will be \",Input_1,\"\")"
   ]
  },
  {
   "cell_type": "markdown",
   "metadata": {},
   "source": [
    "## 10. Euclidean distance\n",
    "### write a Python program to compute the distance between the points (x1, y1) and (x2, y2).\n",
    "#### Program Console Sample 1:\n",
    "###### Enter Co-ordinate for x1: 2\n",
    "###### Enter Co-ordinate for x2: 4\n",
    "###### Enter Co-ordinate for y1: 4\n",
    "###### Enter Co-ordinate for y2: 4\n",
    "###### Distance between points (2, 4) and (4, 4) is 2"
   ]
  },
  {
   "cell_type": "markdown",
   "metadata": {},
   "source": [
    "###### Reference:\n",
    "https://en.wikipedia.org/wiki/Euclidean_distance"
   ]
  },
  {
   "cell_type": "code",
   "execution_count": 29,
   "metadata": {},
   "outputs": [
    {
     "name": "stdout",
     "output_type": "stream",
     "text": [
      "Enter Co-ordinate For x1: 2\n",
      "Enter Co-ordinate For x2: 4\n",
      "Enter Co-ordinate For y1: 6\n",
      "Enter Co-ordinate For y2: 8\n",
      " Distance BETWEEN points ( 2 ,  6 ) & ( 4 ,  8 ) is : 2.8284271247461903\n"
     ]
    }
   ],
   "source": [
    "import math\n",
    "Value=int(input(\"Enter Co-ordinate For x1: \"))\n",
    "Value_2=int(input(\"Enter Co-ordinate For x2: \"))\n",
    "Value_3=int(input(\"Enter Co-ordinate For y1: \"))\n",
    "Value_4=int(input(\"Enter Co-ordinate For y2: \"))\n",
    "\n",
    "calculation = math.sqrt( ((Value_2-Value)**2)+((Value_4-Value_3)**2) ) \n",
    "print(\" Distance BETWEEN points (\",Value,\", \",Value_3,\") & (\",Value_2,\", \",Value_4,\") is :\",calculation)"
   ]
  },
  {
   "cell_type": "markdown",
   "metadata": {},
   "source": [
    "## 11. Feet to Centimeter Converter\n",
    "### Write a Python program to convert height in feet to centimetres.\n",
    "##### Program Console Sample 1:\n",
    "###### Enter Height in Feet: 5\n",
    "###### There are 152.4 Cm in 5 ft\n",
    "###### Reference:\n",
    "https://www.rapidtables.com/convert/length/feet-to-cm.html"
   ]
  },
  {
   "cell_type": "code",
   "execution_count": 30,
   "metadata": {},
   "outputs": [
    {
     "name": "stdout",
     "output_type": "stream",
     "text": [
      "Enter height in feet: 68\n",
      "There are  2072.64  cm in  68.0 ft\n"
     ]
    }
   ],
   "source": [
    "Value= float(input('Enter height in feet: '))\n",
    "Value_2 = 30.48\n",
    "\n",
    "calculation= Value*Value_2\n",
    "print(\"There are \",calculation,\" cm in \",Value,\"ft\")"
   ]
  },
  {
   "cell_type": "markdown",
   "metadata": {},
   "source": [
    "## 12. BMI Calculator\n",
    "### Write a Python program to calculate body mass index\n",
    "##### Program Console Sample 1:\n",
    "###### Enter Height in Cm: 180\n",
    "###### Enter Weight in Kg: 75\n",
    "###### Your BMI is 23.15"
   ]
  },
  {
   "cell_type": "code",
   "execution_count": 31,
   "metadata": {},
   "outputs": [
    {
     "name": "stdout",
     "output_type": "stream",
     "text": [
      "Enter height in cm: 200\n",
      "Enter Weight in kg: 85\n",
      "Your BMI is:  21.25\n"
     ]
    }
   ],
   "source": [
    "User_Input=float(input(\"Enter height in cm: \"))\n",
    "conversion=User_Input/100\n",
    "Weight=float(input(\"Enter Weight in kg: \"))\n",
    "\n",
    "calculation=Weight/(conversion*conversion)\n",
    "print(\"Your BMI is: \",calculation)"
   ]
  },
  {
   "cell_type": "markdown",
   "metadata": {},
   "source": [
    "## 13. Sum of n Positive Integers\n",
    "### Write a python program to sum of the first n positive integers\n",
    "#### Program Console Sample 1:\n",
    "###### Enter value of n: 5\n",
    "###### Sum of n Positive integers till 5 is 15"
   ]
  },
  {
   "cell_type": "code",
   "execution_count": 32,
   "metadata": {},
   "outputs": [
    {
     "name": "stdout",
     "output_type": "stream",
     "text": [
      "Enter Integer: 10\n",
      "Sum of n positive integers till 10 is 55.0\n"
     ]
    }
   ],
   "source": [
    "User_Input=int(input(\"Enter Integer: \"))\n",
    "\n",
    "calculation=(User_Input*(User_Input+1))/2\n",
    "print(\"Sum of n positive integers till\",User_Input,\"is\",calculation)"
   ]
  },
  {
   "cell_type": "markdown",
   "metadata": {},
   "source": [
    "## 14. Digits Sum of a Number\n",
    "### Write a Python program to calculate the sum of the digits in an integer\n",
    "#### Program Console Sample 1:\n",
    "##### Enter a number: 15\n",
    "###### Sum of 1 + 5 is 6\n",
    "#### Program Console Sample 2:\n",
    "##### Enter a number: 1234\n",
    "###### Sum of 1 + 2 + 3 + 4 is 10"
   ]
  },
  {
   "cell_type": "code",
   "execution_count": 35,
   "metadata": {},
   "outputs": [
    {
     "name": "stdout",
     "output_type": "stream",
     "text": [
      "Enter any Integer: 123\n",
      "The Sum of 6\n"
     ]
    }
   ],
   "source": [
    "User_Input=map(int,str(input(\"Enter any Integer: \")))\n",
    "print(\"The Sum of\",sum(User_Input))"
   ]
  },
  {
   "cell_type": "code",
   "execution_count": null,
   "metadata": {},
   "outputs": [],
   "source": []
  }
 ],
 "metadata": {
  "kernelspec": {
   "display_name": "Python 3",
   "language": "python",
   "name": "python3"
  },
  "language_info": {
   "codemirror_mode": {
    "name": "ipython",
    "version": 3
   },
   "file_extension": ".py",
   "mimetype": "text/x-python",
   "name": "python",
   "nbconvert_exporter": "python",
   "pygments_lexer": "ipython3",
   "version": "3.6.7"
  }
 },
 "nbformat": 4,
 "nbformat_minor": 2
}
